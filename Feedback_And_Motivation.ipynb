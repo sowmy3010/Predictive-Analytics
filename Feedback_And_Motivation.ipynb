{
  "nbformat": 4,
  "nbformat_minor": 0,
  "metadata": {
    "colab": {
      "provenance": [],
      "authorship_tag": "ABX9TyMLI6Tno46Kiaso5NbrKgni",
      "include_colab_link": true
    },
    "kernelspec": {
      "name": "python3",
      "display_name": "Python 3"
    },
    "language_info": {
      "name": "python"
    }
  },
  "cells": [
    {
      "cell_type": "markdown",
      "metadata": {
        "id": "view-in-github",
        "colab_type": "text"
      },
      "source": [
        "<a href=\"https://colab.research.google.com/github/sowmy3010/Predictive-Analytics/blob/main/Feedback_And_Motivation.ipynb\" target=\"_parent\"><img src=\"https://colab.research.google.com/assets/colab-badge.svg\" alt=\"Open In Colab\"/></a>"
      ]
    },
    {
      "cell_type": "code",
      "execution_count": 76,
      "metadata": {
        "id": "jDnUCq5_5x0u"
      },
      "outputs": [],
      "source": [
        "import pandas as pd\n",
        "import numpy as np\n",
        "import statsmodels.api as sm\n",
        "import seaborn as sns"
      ]
    },
    {
      "cell_type": "markdown",
      "source": [
        "# **Loading the Data**"
      ],
      "metadata": {
        "id": "7oMzpbQp50sk"
      }
    },
    {
      "cell_type": "code",
      "source": [
        "# Load the data\n",
        "data = pd.read_csv('Feedback and Motivation 300.csv')"
      ],
      "metadata": {
        "id": "zaakoQXN5_Kn"
      },
      "execution_count": 77,
      "outputs": []
    },
    {
      "cell_type": "code",
      "source": [
        "data.head()"
      ],
      "metadata": {
        "colab": {
          "base_uri": "https://localhost:8080/",
          "height": 386
        },
        "id": "zAzAoCnL6fLu",
        "outputId": "77c90d11-bb08-4b8a-9f41-17624557c92e"
      },
      "execution_count": 78,
      "outputs": [
        {
          "output_type": "execute_result",
          "data": {
            "text/plain": [
              "            Timestamp                Email Address  gender  age  \\\n",
              "0  4/22/2023 22:12:11   varshalnarayanan@gmail.com  Female   19   \n",
              "1  4/22/2023 22:17:21        itsmekeertz@gmail.com  Female   19   \n",
              "2  4/22/2023 22:18:05          sowmy3010@gmail.com  Female   19   \n",
              "3  4/22/2023 22:19:20  tejaswini.pk.2004@gmail.com  Female   18   \n",
              "4  4/22/2023 22:23:30       anoormalik09@gmail.com    Male   18   \n",
              "\n",
              "               program_of_study  f_confidence  f_gap  f_clear  f_specific  \\\n",
              "0                  data science             3      1        2           2   \n",
              "1                           MSc             4      4        3           2   \n",
              "2                  Data Science             3      2        2           3   \n",
              "3              Msc.Data Science             2      2        4           4   \n",
              "4  Computer science and design              3      3        3           4   \n",
              "\n",
              "   f_focus  ...  m_motivated  m_challenge  m_enthusiastic  m_confident  \\\n",
              "0        2  ...            1            5               5            1   \n",
              "1        3  ...            4            3               2            3   \n",
              "2        2  ...            5            4               3            3   \n",
              "3        2  ...            4            3               2            5   \n",
              "4        3  ...            4            3               3            4   \n",
              "\n",
              "   m_control  m_effort  m_seek_feedback  m_helpful  m_satisfaction  \\\n",
              "0          3         5                1          1               2   \n",
              "1          4         3                3          4               3   \n",
              "2          4         5                3          3               3   \n",
              "3          4         2                4          1               3   \n",
              "4          4         4                4          4               3   \n",
              "\n",
              "   m_continue_journey  \n",
              "0                   3  \n",
              "1                   3  \n",
              "2                   4  \n",
              "3                   4  \n",
              "4                   4  \n",
              "\n",
              "[5 rows x 25 columns]"
            ],
            "text/html": [
              "\n",
              "  <div id=\"df-bc2be54b-daae-4b12-8011-ce195bb500ee\">\n",
              "    <div class=\"colab-df-container\">\n",
              "      <div>\n",
              "<style scoped>\n",
              "    .dataframe tbody tr th:only-of-type {\n",
              "        vertical-align: middle;\n",
              "    }\n",
              "\n",
              "    .dataframe tbody tr th {\n",
              "        vertical-align: top;\n",
              "    }\n",
              "\n",
              "    .dataframe thead th {\n",
              "        text-align: right;\n",
              "    }\n",
              "</style>\n",
              "<table border=\"1\" class=\"dataframe\">\n",
              "  <thead>\n",
              "    <tr style=\"text-align: right;\">\n",
              "      <th></th>\n",
              "      <th>Timestamp</th>\n",
              "      <th>Email Address</th>\n",
              "      <th>gender</th>\n",
              "      <th>age</th>\n",
              "      <th>program_of_study</th>\n",
              "      <th>f_confidence</th>\n",
              "      <th>f_gap</th>\n",
              "      <th>f_clear</th>\n",
              "      <th>f_specific</th>\n",
              "      <th>f_focus</th>\n",
              "      <th>...</th>\n",
              "      <th>m_motivated</th>\n",
              "      <th>m_challenge</th>\n",
              "      <th>m_enthusiastic</th>\n",
              "      <th>m_confident</th>\n",
              "      <th>m_control</th>\n",
              "      <th>m_effort</th>\n",
              "      <th>m_seek_feedback</th>\n",
              "      <th>m_helpful</th>\n",
              "      <th>m_satisfaction</th>\n",
              "      <th>m_continue_journey</th>\n",
              "    </tr>\n",
              "  </thead>\n",
              "  <tbody>\n",
              "    <tr>\n",
              "      <th>0</th>\n",
              "      <td>4/22/2023 22:12:11</td>\n",
              "      <td>varshalnarayanan@gmail.com</td>\n",
              "      <td>Female</td>\n",
              "      <td>19</td>\n",
              "      <td>data science</td>\n",
              "      <td>3</td>\n",
              "      <td>1</td>\n",
              "      <td>2</td>\n",
              "      <td>2</td>\n",
              "      <td>2</td>\n",
              "      <td>...</td>\n",
              "      <td>1</td>\n",
              "      <td>5</td>\n",
              "      <td>5</td>\n",
              "      <td>1</td>\n",
              "      <td>3</td>\n",
              "      <td>5</td>\n",
              "      <td>1</td>\n",
              "      <td>1</td>\n",
              "      <td>2</td>\n",
              "      <td>3</td>\n",
              "    </tr>\n",
              "    <tr>\n",
              "      <th>1</th>\n",
              "      <td>4/22/2023 22:17:21</td>\n",
              "      <td>itsmekeertz@gmail.com</td>\n",
              "      <td>Female</td>\n",
              "      <td>19</td>\n",
              "      <td>MSc</td>\n",
              "      <td>4</td>\n",
              "      <td>4</td>\n",
              "      <td>3</td>\n",
              "      <td>2</td>\n",
              "      <td>3</td>\n",
              "      <td>...</td>\n",
              "      <td>4</td>\n",
              "      <td>3</td>\n",
              "      <td>2</td>\n",
              "      <td>3</td>\n",
              "      <td>4</td>\n",
              "      <td>3</td>\n",
              "      <td>3</td>\n",
              "      <td>4</td>\n",
              "      <td>3</td>\n",
              "      <td>3</td>\n",
              "    </tr>\n",
              "    <tr>\n",
              "      <th>2</th>\n",
              "      <td>4/22/2023 22:18:05</td>\n",
              "      <td>sowmy3010@gmail.com</td>\n",
              "      <td>Female</td>\n",
              "      <td>19</td>\n",
              "      <td>Data Science</td>\n",
              "      <td>3</td>\n",
              "      <td>2</td>\n",
              "      <td>2</td>\n",
              "      <td>3</td>\n",
              "      <td>2</td>\n",
              "      <td>...</td>\n",
              "      <td>5</td>\n",
              "      <td>4</td>\n",
              "      <td>3</td>\n",
              "      <td>3</td>\n",
              "      <td>4</td>\n",
              "      <td>5</td>\n",
              "      <td>3</td>\n",
              "      <td>3</td>\n",
              "      <td>3</td>\n",
              "      <td>4</td>\n",
              "    </tr>\n",
              "    <tr>\n",
              "      <th>3</th>\n",
              "      <td>4/22/2023 22:19:20</td>\n",
              "      <td>tejaswini.pk.2004@gmail.com</td>\n",
              "      <td>Female</td>\n",
              "      <td>18</td>\n",
              "      <td>Msc.Data Science</td>\n",
              "      <td>2</td>\n",
              "      <td>2</td>\n",
              "      <td>4</td>\n",
              "      <td>4</td>\n",
              "      <td>2</td>\n",
              "      <td>...</td>\n",
              "      <td>4</td>\n",
              "      <td>3</td>\n",
              "      <td>2</td>\n",
              "      <td>5</td>\n",
              "      <td>4</td>\n",
              "      <td>2</td>\n",
              "      <td>4</td>\n",
              "      <td>1</td>\n",
              "      <td>3</td>\n",
              "      <td>4</td>\n",
              "    </tr>\n",
              "    <tr>\n",
              "      <th>4</th>\n",
              "      <td>4/22/2023 22:23:30</td>\n",
              "      <td>anoormalik09@gmail.com</td>\n",
              "      <td>Male</td>\n",
              "      <td>18</td>\n",
              "      <td>Computer science and design</td>\n",
              "      <td>3</td>\n",
              "      <td>3</td>\n",
              "      <td>3</td>\n",
              "      <td>4</td>\n",
              "      <td>3</td>\n",
              "      <td>...</td>\n",
              "      <td>4</td>\n",
              "      <td>3</td>\n",
              "      <td>3</td>\n",
              "      <td>4</td>\n",
              "      <td>4</td>\n",
              "      <td>4</td>\n",
              "      <td>4</td>\n",
              "      <td>4</td>\n",
              "      <td>3</td>\n",
              "      <td>4</td>\n",
              "    </tr>\n",
              "  </tbody>\n",
              "</table>\n",
              "<p>5 rows × 25 columns</p>\n",
              "</div>\n",
              "      <button class=\"colab-df-convert\" onclick=\"convertToInteractive('df-bc2be54b-daae-4b12-8011-ce195bb500ee')\"\n",
              "              title=\"Convert this dataframe to an interactive table.\"\n",
              "              style=\"display:none;\">\n",
              "        \n",
              "  <svg xmlns=\"http://www.w3.org/2000/svg\" height=\"24px\"viewBox=\"0 0 24 24\"\n",
              "       width=\"24px\">\n",
              "    <path d=\"M0 0h24v24H0V0z\" fill=\"none\"/>\n",
              "    <path d=\"M18.56 5.44l.94 2.06.94-2.06 2.06-.94-2.06-.94-.94-2.06-.94 2.06-2.06.94zm-11 1L8.5 8.5l.94-2.06 2.06-.94-2.06-.94L8.5 2.5l-.94 2.06-2.06.94zm10 10l.94 2.06.94-2.06 2.06-.94-2.06-.94-.94-2.06-.94 2.06-2.06.94z\"/><path d=\"M17.41 7.96l-1.37-1.37c-.4-.4-.92-.59-1.43-.59-.52 0-1.04.2-1.43.59L10.3 9.45l-7.72 7.72c-.78.78-.78 2.05 0 2.83L4 21.41c.39.39.9.59 1.41.59.51 0 1.02-.2 1.41-.59l7.78-7.78 2.81-2.81c.8-.78.8-2.07 0-2.86zM5.41 20L4 18.59l7.72-7.72 1.47 1.35L5.41 20z\"/>\n",
              "  </svg>\n",
              "      </button>\n",
              "      \n",
              "  <style>\n",
              "    .colab-df-container {\n",
              "      display:flex;\n",
              "      flex-wrap:wrap;\n",
              "      gap: 12px;\n",
              "    }\n",
              "\n",
              "    .colab-df-convert {\n",
              "      background-color: #E8F0FE;\n",
              "      border: none;\n",
              "      border-radius: 50%;\n",
              "      cursor: pointer;\n",
              "      display: none;\n",
              "      fill: #1967D2;\n",
              "      height: 32px;\n",
              "      padding: 0 0 0 0;\n",
              "      width: 32px;\n",
              "    }\n",
              "\n",
              "    .colab-df-convert:hover {\n",
              "      background-color: #E2EBFA;\n",
              "      box-shadow: 0px 1px 2px rgba(60, 64, 67, 0.3), 0px 1px 3px 1px rgba(60, 64, 67, 0.15);\n",
              "      fill: #174EA6;\n",
              "    }\n",
              "\n",
              "    [theme=dark] .colab-df-convert {\n",
              "      background-color: #3B4455;\n",
              "      fill: #D2E3FC;\n",
              "    }\n",
              "\n",
              "    [theme=dark] .colab-df-convert:hover {\n",
              "      background-color: #434B5C;\n",
              "      box-shadow: 0px 1px 3px 1px rgba(0, 0, 0, 0.15);\n",
              "      filter: drop-shadow(0px 1px 2px rgba(0, 0, 0, 0.3));\n",
              "      fill: #FFFFFF;\n",
              "    }\n",
              "  </style>\n",
              "\n",
              "      <script>\n",
              "        const buttonEl =\n",
              "          document.querySelector('#df-bc2be54b-daae-4b12-8011-ce195bb500ee button.colab-df-convert');\n",
              "        buttonEl.style.display =\n",
              "          google.colab.kernel.accessAllowed ? 'block' : 'none';\n",
              "\n",
              "        async function convertToInteractive(key) {\n",
              "          const element = document.querySelector('#df-bc2be54b-daae-4b12-8011-ce195bb500ee');\n",
              "          const dataTable =\n",
              "            await google.colab.kernel.invokeFunction('convertToInteractive',\n",
              "                                                     [key], {});\n",
              "          if (!dataTable) return;\n",
              "\n",
              "          const docLinkHtml = 'Like what you see? Visit the ' +\n",
              "            '<a target=\"_blank\" href=https://colab.research.google.com/notebooks/data_table.ipynb>data table notebook</a>'\n",
              "            + ' to learn more about interactive tables.';\n",
              "          element.innerHTML = '';\n",
              "          dataTable['output_type'] = 'display_data';\n",
              "          await google.colab.output.renderOutput(dataTable, element);\n",
              "          const docLink = document.createElement('div');\n",
              "          docLink.innerHTML = docLinkHtml;\n",
              "          element.appendChild(docLink);\n",
              "        }\n",
              "      </script>\n",
              "    </div>\n",
              "  </div>\n",
              "  "
            ]
          },
          "metadata": {},
          "execution_count": 78
        }
      ]
    },
    {
      "cell_type": "code",
      "source": [
        "data.info()"
      ],
      "metadata": {
        "colab": {
          "base_uri": "https://localhost:8080/"
        },
        "id": "iTM8K8gj6jI0",
        "outputId": "ed7b316c-b677-4b24-b1fd-dab70915966d"
      },
      "execution_count": 79,
      "outputs": [
        {
          "output_type": "stream",
          "name": "stdout",
          "text": [
            "<class 'pandas.core.frame.DataFrame'>\n",
            "RangeIndex: 369 entries, 0 to 368\n",
            "Data columns (total 25 columns):\n",
            " #   Column              Non-Null Count  Dtype \n",
            "---  ------              --------------  ----- \n",
            " 0   Timestamp           275 non-null    object\n",
            " 1   Email Address       369 non-null    object\n",
            " 2   gender              369 non-null    object\n",
            " 3   age                 369 non-null    int64 \n",
            " 4   program_of_study    369 non-null    object\n",
            " 5   f_confidence        369 non-null    int64 \n",
            " 6   f_gap               369 non-null    int64 \n",
            " 7   f_clear             369 non-null    int64 \n",
            " 8   f_specific          369 non-null    int64 \n",
            " 9   f_focus             369 non-null    int64 \n",
            " 10  f_time              369 non-null    int64 \n",
            " 11  f_detailed          369 non-null    int64 \n",
            " 12  f_tone              369 non-null    int64 \n",
            " 13  f_helpful           369 non-null    int64 \n",
            " 14  f_likely_seek       369 non-null    int64 \n",
            " 15  m_motivated         369 non-null    int64 \n",
            " 16  m_challenge         369 non-null    int64 \n",
            " 17  m_enthusiastic      369 non-null    int64 \n",
            " 18  m_confident         369 non-null    int64 \n",
            " 19  m_control           369 non-null    int64 \n",
            " 20  m_effort            369 non-null    int64 \n",
            " 21  m_seek_feedback     369 non-null    int64 \n",
            " 22  m_helpful           369 non-null    int64 \n",
            " 23  m_satisfaction      369 non-null    int64 \n",
            " 24  m_continue_journey  369 non-null    int64 \n",
            "dtypes: int64(21), object(4)\n",
            "memory usage: 72.2+ KB\n"
          ]
        }
      ]
    },
    {
      "cell_type": "markdown",
      "source": [
        "# **Data Preprocessing**\n",
        "    Enhances data quality and prepares it for analysis by applying various technique."
      ],
      "metadata": {
        "id": "UqJLwDuB6KFf"
      }
    },
    {
      "cell_type": "code",
      "source": [
        "# Replace values in 'gender' column\n",
        "data['gender'] = data['gender'].replace({'Male': 1, 'Female': 0})\n",
        "\n",
        "# Convert 'gender' column to int64 data type\n",
        "data['gender'] = data['gender'].astype('int64')\n",
        "\n",
        "# Print the Replaced values\n",
        "print(data['gender'])"
      ],
      "metadata": {
        "colab": {
          "base_uri": "https://localhost:8080/"
        },
        "id": "HrzlHLh_6Qha",
        "outputId": "25895e4d-4cbc-4155-826d-87b2b7b9e756"
      },
      "execution_count": 80,
      "outputs": [
        {
          "output_type": "stream",
          "name": "stdout",
          "text": [
            "0      0\n",
            "1      0\n",
            "2      0\n",
            "3      0\n",
            "4      1\n",
            "      ..\n",
            "364    0\n",
            "365    1\n",
            "366    1\n",
            "367    1\n",
            "368    0\n",
            "Name: gender, Length: 369, dtype: int64\n"
          ]
        }
      ]
    },
    {
      "cell_type": "code",
      "source": [
        "# Drop Timestamp\n",
        "data = data.drop('Timestamp', axis=1)"
      ],
      "metadata": {
        "id": "olU_pByg7hi-"
      },
      "execution_count": 81,
      "outputs": []
    },
    {
      "cell_type": "code",
      "source": [
        "# Check for missing values\n",
        "missing_values = data.isnull().sum()\n",
        "print(\"Missing values:\")\n",
        "print(missing_values)\n",
        "\n",
        "# Get value counts for each column\n",
        "value_counts = data.value_counts()\n",
        "print(\"Value counts:\")\n",
        "print(value_counts)\n"
      ],
      "metadata": {
        "colab": {
          "base_uri": "https://localhost:8080/"
        },
        "id": "XtXUnda07J_G",
        "outputId": "e820bca9-d0e6-41cd-d2a4-f9a1b25559b7"
      },
      "execution_count": 82,
      "outputs": [
        {
          "output_type": "stream",
          "name": "stdout",
          "text": [
            "Missing values:\n",
            "Email Address         0\n",
            "gender                0\n",
            "age                   0\n",
            "program_of_study      0\n",
            "f_confidence          0\n",
            "f_gap                 0\n",
            "f_clear               0\n",
            "f_specific            0\n",
            "f_focus               0\n",
            "f_time                0\n",
            "f_detailed            0\n",
            "f_tone                0\n",
            "f_helpful             0\n",
            "f_likely_seek         0\n",
            "m_motivated           0\n",
            "m_challenge           0\n",
            "m_enthusiastic        0\n",
            "m_confident           0\n",
            "m_control             0\n",
            "m_effort              0\n",
            "m_seek_feedback       0\n",
            "m_helpful             0\n",
            "m_satisfaction        0\n",
            "m_continue_journey    0\n",
            "dtype: int64\n",
            "Value counts:\n",
            "Email Address              gender  age  program_of_study                                                   f_confidence  f_gap  f_clear  f_specific  f_focus  f_time  f_detailed  f_tone  f_helpful  f_likely_seek  m_motivated  m_challenge  m_enthusiastic  m_confident  m_control  m_effort  m_seek_feedback  m_helpful  m_satisfaction  m_continue_journey\n",
            "125003470@sastra.ac.in     0       19   B.Tech CSE                                                         3             3      4        4           4        2       3           4       4          4              3            4            3               3            3          5         4                4          4               4                     1\n",
            "rohanregu@gmail.com        1       19   Btech Computer science                                             4             3      4        4           4        4       4           5       5          4              4            4            4               4            4          4         4                4          4               4                     1\n",
            "sahanasagi2003@gmail.com   0       19   B.E COMPUTER SCIENCE ENGINEERING                                   5             5      5        5           5        5       5           5       5          5              4            5            4               3            4          3         5                5          5               5                     1\n",
            "sabirami2@student.tce.edu  0       18   Btech-IT                                                           4             3      4        4           3        4       4           4       4          3              4            4            4               4            4          5         4                4          4               4                     1\n",
            "s.harshitha1428@gmail.com  0       19   Btech biotechnology                                                3             3      3        3           3        3       3           3       3          3              3            3            3               3            3          3         3                3          3               3                     1\n",
            "                                                                                                                                                                                                                                                                                                                                                                 ..\n",
            "johnny2320@gmail.com       1       19   VISCOM                                                             2             1      2        3           2        1       2           2       1          3              1            2            1               2            3          2         1                2          1               2                     1\n",
            "jj8030@srmist.edu.in       0       20   B. Tech Biotechnology with specialisation in Genetic Engineering   5             5      5        5           4        4       5           5       5          5              4            4            5               3            3          4         5                5          5               3                     1\n",
            "jesanth@student.tce.edu    1       20   B.E.Civil                                                          4             3      4        3           3        3       3           3       2          2              3            3            3               3            3          3         3                2          3               3                     1\n",
            "jeeva10@gmail.com          0       24   MCA                                                                3             4      3        3           5        5       3           3       5          5              3            2            3               2            4          3         2                2          3               3                     1\n",
            "zaki49@gmail.com           0       18   Btech Computer science                                             5             3      4        5           4        4       4           4       2          4              3            4            3               5            3          2         2                4          2               4                     1\n",
            "Length: 369, dtype: int64\n"
          ]
        }
      ]
    },
    {
      "cell_type": "code",
      "source": [
        "# Drop 'Email Address' column\n",
        "data = data.drop('Email Address', axis=1)"
      ],
      "metadata": {
        "id": "vBYx63OF7qKG"
      },
      "execution_count": 83,
      "outputs": []
    },
    {
      "cell_type": "code",
      "source": [
        "# Drop 'program_of_study' column\n",
        "data = data.drop('program_of_study', axis=1)"
      ],
      "metadata": {
        "id": "jccBOR077389"
      },
      "execution_count": 84,
      "outputs": []
    },
    {
      "cell_type": "code",
      "source": [
        "# Calculate the motivation score\n",
        "data['motivation'] = data['m_motivated'] + data['m_challenge'] + data['m_enthusiastic'] + data['m_confident'] + data['m_control'] + data['m_effort'] + data['m_seek_feedback'] + data['m_helpful'] + data['m_satisfaction'] + data['m_continue_journey']\n",
        "\n",
        "# Define the independent variables (X) and the dependent variable (y)\n",
        "X = data[['age', 'gender', 'f_confidence', 'f_clear', 'f_gap', 'f_specific', 'f_focus', 'f_time', 'f_detailed', 'f_tone', 'f_helpful', 'f_likely_seek']]\n",
        "y = data['motivation']\n",
        "\n",
        "# Add a constant term to the independent variables\n",
        "X = sm.add_constant(X)"
      ],
      "metadata": {
        "id": "itNzDudj8FNf"
      },
      "execution_count": 85,
      "outputs": []
    },
    {
      "cell_type": "code",
      "source": [
        "# Create a model with all features\n",
        "model = sm.OLS(y, X).fit()\n",
        "\n",
        "# Get the p-values of all the features\n",
        "p_values = model.pvalues\n",
        "\n",
        "# List to store eliminated features\n",
        "eliminated_features = []\n",
        "\n",
        "# Backward elimination loop\n",
        "while p_values.max() > 0.05:\n",
        "    # Find the feature with the highest p-value\n",
        "    feature_to_remove = p_values.argmax()\n",
        "    # Remove the feature from X and update the model\n",
        "    eliminated_feature = X.columns[feature_to_remove]\n",
        "    X = X.drop(eliminated_feature, axis=1)\n",
        "    model = sm.OLS(y, X).fit()\n",
        "\n",
        "    # Get the p-values of the remaining features\n",
        "    p_values = model.pvalues\n",
        "\n",
        "    # Append the eliminated feature to the list\n",
        "    eliminated_features.append(eliminated_feature)\n",
        "\n",
        "\n",
        "# Print the eliminated features\n",
        "print(\"Eliminated Features:\", eliminated_features)\n"
      ],
      "metadata": {
        "colab": {
          "base_uri": "https://localhost:8080/"
        },
        "id": "j2cXVmQ59zVq",
        "outputId": "591c60b1-50a1-4411-8b7f-2a77f5446bfa"
      },
      "execution_count": 86,
      "outputs": [
        {
          "output_type": "stream",
          "name": "stdout",
          "text": [
            "Eliminated Features: ['gender', 'f_gap']\n"
          ]
        }
      ]
    },
    {
      "cell_type": "markdown",
      "source": [
        "# **Multiple Regression**\n",
        "    A statistical technique used to analyze the relationship between a dependent variable and multiple independent variables in order to predict\n",
        "    or explain the variability in the dependent variable."
      ],
      "metadata": {
        "id": "pEcnZd1b9LL2"
      }
    },
    {
      "cell_type": "code",
      "source": [
        "model = sm.OLS(y, X).fit()\n",
        "print(model.summary())"
      ],
      "metadata": {
        "colab": {
          "base_uri": "https://localhost:8080/"
        },
        "id": "RM0SAYi98eRH",
        "outputId": "97f3851b-d58a-4b5a-ede0-8af938401a47"
      },
      "execution_count": 87,
      "outputs": [
        {
          "output_type": "stream",
          "name": "stdout",
          "text": [
            "                            OLS Regression Results                            \n",
            "==============================================================================\n",
            "Dep. Variable:             motivation   R-squared:                       0.629\n",
            "Model:                            OLS   Adj. R-squared:                  0.618\n",
            "Method:                 Least Squares   F-statistic:                     60.65\n",
            "Date:                Sat, 17 Jun 2023   Prob (F-statistic):           6.48e-71\n",
            "Time:                        15:30:37   Log-Likelihood:                -1102.5\n",
            "No. Observations:                 369   AIC:                             2227.\n",
            "Df Residuals:                     358   BIC:                             2270.\n",
            "Df Model:                          10                                         \n",
            "Covariance Type:            nonrobust                                         \n",
            "=================================================================================\n",
            "                    coef    std err          t      P>|t|      [0.025      0.975]\n",
            "---------------------------------------------------------------------------------\n",
            "const            17.3224      3.292      5.263      0.000      10.849      23.796\n",
            "age              -0.4652      0.147     -3.163      0.002      -0.754      -0.176\n",
            "f_confidence      1.0584      0.270      3.919      0.000       0.527       1.590\n",
            "f_clear           0.6002      0.297      2.019      0.044       0.015       1.185\n",
            "f_specific        0.7511      0.267      2.816      0.005       0.227       1.276\n",
            "f_focus           1.0547      0.289      3.653      0.000       0.487       1.623\n",
            "f_time            0.6795      0.268      2.535      0.012       0.152       1.207\n",
            "f_detailed        0.5625      0.280      2.012      0.045       0.013       1.112\n",
            "f_tone            0.6444      0.259      2.486      0.013       0.135       1.154\n",
            "f_helpful         1.1032      0.281      3.920      0.000       0.550       1.657\n",
            "f_likely_seek     1.2407      0.279      4.442      0.000       0.691       1.790\n",
            "==============================================================================\n",
            "Omnibus:                        3.798   Durbin-Watson:                   1.855\n",
            "Prob(Omnibus):                  0.150   Jarque-Bera (JB):                4.536\n",
            "Skew:                          -0.043   Prob(JB):                        0.104\n",
            "Kurtosis:                       3.536   Cond. No.                         285.\n",
            "==============================================================================\n",
            "\n",
            "Notes:\n",
            "[1] Standard Errors assume that the covariance matrix of the errors is correctly specified.\n"
          ]
        }
      ]
    },
    {
      "cell_type": "markdown",
      "source": [
        "# **Variation Inflation Factor**\n",
        "     To measure the multicollinearity between independent variables, indicating how much the variance of an estimated regression\n",
        "     coefficient is increased due to collinearity."
      ],
      "metadata": {
        "id": "odpWeHFr-yqd"
      }
    },
    {
      "cell_type": "code",
      "source": [
        "from statsmodels.stats.outliers_influence import variance_inflation_factor\n",
        "\n",
        "# Calculate Variance Inflation Factor (VIF)\n",
        "vif = pd.DataFrame()\n",
        "vif[\"VIF Factor\"] = [variance_inflation_factor(X.values, i) for i in range(X.shape[1])]\n",
        "vif[\"features\"] = X.columns\n",
        "print(vif)"
      ],
      "metadata": {
        "colab": {
          "base_uri": "https://localhost:8080/"
        },
        "id": "kBX6HYP4-vBV",
        "outputId": "45fbbd02-5643-43f5-b674-3847870a8113"
      },
      "execution_count": 89,
      "outputs": [
        {
          "output_type": "stream",
          "name": "stdout",
          "text": [
            "    VIF Factor       features\n",
            "0   168.225751          const\n",
            "1     1.117475            age\n",
            "2     1.493678   f_confidence\n",
            "3     1.738359        f_clear\n",
            "4     1.433099     f_specific\n",
            "5     1.633420        f_focus\n",
            "6     1.429676         f_time\n",
            "7     1.513555     f_detailed\n",
            "8     1.540955         f_tone\n",
            "9     1.735861      f_helpful\n",
            "10    1.565057  f_likely_seek\n"
          ]
        }
      ]
    },
    {
      "cell_type": "markdown",
      "source": [
        "# **Cook's Distance**\n",
        "\n",
        "```\n",
        " A measure used to identify influential data points in regression analysis.\n",
        "```\n",
        "\n"
      ],
      "metadata": {
        "id": "4BbGUHPt_AJm"
      }
    },
    {
      "cell_type": "code",
      "source": [
        "import numpy as np\n",
        "import pandas as pd\n",
        "import statsmodels.api as sm\n",
        "from statsmodels.stats.outliers_influence import OLSInfluence\n",
        "import matplotlib.pyplot as plt"
      ],
      "metadata": {
        "id": "V0TBEYhB_IWt"
      },
      "execution_count": 90,
      "outputs": []
    },
    {
      "cell_type": "code",
      "source": [
        "# Fit the OLS model\n",
        "model = sm.OLS(y, sm.add_constant(X)).fit()\n",
        "\n",
        "# Calculate residuals\n",
        "residuals = model.resid\n",
        "\n",
        "# Plot scatter plot of predicted values vs. residuals\n",
        "plt.scatter(model.predict(), residuals)\n",
        "\n",
        "# Calculate Cook's distance\n",
        "influence = OLSInfluence(model)\n",
        "(cooks_d, _) = influence.cooks_distance\n",
        "\n",
        "# Identify outliers with Cook's distance greater than 4/n\n",
        "n = len(X)\n",
        "outliers = [i for i, d in enumerate(cooks_d) if d > 4/n]\n",
        "\n",
        "# Add markers for the outliers\n",
        "plt.scatter(model.predict()[outliers], residuals[outliers], marker='X', color='red')\n",
        "\n",
        "# Show the scatter plot\n",
        "plt.show()\n"
      ],
      "metadata": {
        "colab": {
          "base_uri": "https://localhost:8080/",
          "height": 430
        },
        "id": "ywyCLfve_JSS",
        "outputId": "da44f095-a18e-4c04-80eb-d313670f99cd"
      },
      "execution_count": 91,
      "outputs": [
        {
          "output_type": "display_data",
          "data": {
            "text/plain": [
              "<Figure size 640x480 with 1 Axes>"
            ],
            "image/png": "[encoded data removed]"
          },
          "metadata": {}
        }
      ]
    },
    {
      "cell_type": "code",
      "source": [
        "# Plot Cook's distance\n",
        "fig = plt.figure(figsize=(12, 8))\n",
        "plt.stem(np.arange(len(X)), cooks_d, markerfmt=\",\")\n",
        "plt.title(\"Cook's Distance Plot\")\n",
        "plt.xlabel(\"Observation Index\")\n",
        "plt.ylabel(\"Cook's Distance\")\n",
        "plt.show()"
      ],
      "metadata": {
        "colab": {
          "base_uri": "https://localhost:8080/",
          "height": 718
        },
        "id": "o448k32A_Ksn",
        "outputId": "5bee88a5-8f9e-4f98-d612-d2207ae051c5"
      },
      "execution_count": 92,
      "outputs": [
        {
          "output_type": "display_data",
          "data": {
            "text/plain": [
              "<Figure size 1200x800 with 1 Axes>"
            ],
            "image/png": "[encoded data removed]"
          },
          "metadata": {}
        }
      ]
    },
    {
      "cell_type": "markdown",
      "source": [
        "# **Training And Test Set**\n",
        "    The training set trains the model on labelled data, while the test set assesses the model's performance on unseen data."
      ],
      "metadata": {
        "id": "4DqvLSaS_kdg"
      }
    },
    {
      "cell_type": "code",
      "source": [
        "# Import the necessary library\n",
        "from sklearn.model_selection import train_test_split\n",
        "\n",
        "# Split the data into training and testing sets\n",
        "X_train, X_test, y_train, y_test = train_test_split(X, y, test_size=0.2, random_state=42)\n"
      ],
      "metadata": {
        "id": "mOKibeoj_nRB"
      },
      "execution_count": 93,
      "outputs": []
    },
    {
      "cell_type": "code",
      "source": [
        "# Import the LinearRegression class from sklearn.linear_model\n",
        "from sklearn.linear_model import LinearRegression\n",
        "\n",
        "# Create an instance of LinearRegression\n",
        "regressor = LinearRegression()\n",
        "\n",
        "# Fit the model to the training data\n",
        "regressor.fit(X_train, y_train)\n",
        "\n",
        "# Calculate the R-squared score on the training data\n",
        "r_squared = regressor.score(X_train, y_train)\n",
        "\n",
        "# Print the R-squared score\n",
        "print(\"R-squared:\", r_squared)"
      ],
      "metadata": {
        "colab": {
          "base_uri": "https://localhost:8080/"
        },
        "id": "U36PouP__uwC",
        "outputId": "2dbe9239-fd24-477b-fee4-18ee81142d0b"
      },
      "execution_count": 94,
      "outputs": [
        {
          "output_type": "stream",
          "name": "stdout",
          "text": [
            "R-squared: 0.6105372505263473\n"
          ]
        }
      ]
    },
    {
      "cell_type": "code",
      "source": [
        "# Create an instance of the LinearRegression model\n",
        "regressor = LinearRegression()\n",
        "\n",
        "# Fit the model using the testing data\n",
        "regressor.fit(X_test, y_test)\n",
        "\n",
        "# Calculate the R-squared value for the model\n",
        "r_squared = regressor.score(X_test, y_test)\n",
        "\n",
        "# Print the R-squared value\n",
        "print(\"R-squared:\", r_squared)\n"
      ],
      "metadata": {
        "colab": {
          "base_uri": "https://localhost:8080/"
        },
        "id": "Ya50NykX_x8k",
        "outputId": "79a6c7c8-3d05-46e2-d63b-f0ec134dac08"
      },
      "execution_count": 95,
      "outputs": [
        {
          "output_type": "stream",
          "name": "stdout",
          "text": [
            "R-squared: 0.7550628338449737\n"
          ]
        }
      ]
    },
    {
      "cell_type": "code",
      "source": [
        "# Import necessary libraries\n",
        "from sklearn.metrics import r2_score, mean_squared_error, mean_absolute_error\n",
        "from math import sqrt\n",
        "\n",
        "# Predict on the training set\n",
        "y_train_pred = model.predict(X_train)\n",
        "train_r2 = r2_score(y_train, y_train_pred)\n",
        "train_mse = mean_squared_error(y_train, y_train_pred)\n",
        "train_mae = mean_absolute_error(y_train, y_train_pred)\n",
        "train_rmse = sqrt(train_mse)\n",
        "\n",
        "# Predict on the test set\n",
        "y_test_pred = model.predict(X_test)\n",
        "test_r2 = r2_score(y_test, y_test_pred)\n",
        "test_mse = mean_squared_error(y_test, y_test_pred)\n",
        "test_mae = mean_absolute_error(y_test, y_test_pred)\n",
        "test_rmse = sqrt(test_mse)\n",
        "\n",
        "# Print evaluation metrics for the training set\n",
        "print(\"Train set R-squared: {:.3f}\".format(train_r2))\n",
        "print(\"Train set MSE: {:.3f}\".format(train_mse))\n",
        "print(\"Train set MAE: {:.3f}\".format(train_mae))\n",
        "print(\"Train set RMSE: {:.3f}\".format(train_rmse))\n",
        "\n",
        "# Print evaluation metrics for the test set\n",
        "print(\"Test set R-squared: {:.3f}\".format(test_r2))\n",
        "print(\"Test set MSE: {:.3f}\".format(test_mse))\n",
        "print(\"Test set MAE: {:.3f}\".format(test_mae))\n",
        "print(\"Test set RMSE: {:.3f}\".format(test_rmse))\n"
      ],
      "metadata": {
        "colab": {
          "base_uri": "https://localhost:8080/"
        },
        "id": "oodM-B-q_3QI",
        "outputId": "388d1ee2-7438-4bd4-e157-870e07c79954"
      },
      "execution_count": 96,
      "outputs": [
        {
          "output_type": "stream",
          "name": "stdout",
          "text": [
            "Train set R-squared: 0.608\n",
            "Train set MSE: 24.354\n",
            "Train set MAE: 3.970\n",
            "Train set RMSE: 4.935\n",
            "Test set R-squared: 0.711\n",
            "Test set MSE: 17.889\n",
            "Test set MAE: 3.423\n",
            "Test set RMSE: 4.230\n"
          ]
        }
      ]
    },
    {
      "cell_type": "markdown",
      "source": [
        "# **Heatmap**\n",
        "    A visual summary of the data patterns and relationships"
      ],
      "metadata": {
        "id": "pbw_JC5__6v8"
      }
    },
    {
      "cell_type": "code",
      "source": [
        "corr_matrix = X.corr()\n",
        "sns.heatmap(corr_matrix, annot=True, cmap='YlGnBu')"
      ],
      "metadata": {
        "colab": {
          "base_uri": "https://localhost:8080/",
          "height": 527
        },
        "id": "_WGMZ_bF_7-x",
        "outputId": "52b7e4d6-4a2f-4778-9c27-bb41f8e9b6f5"
      },
      "execution_count": 97,
      "outputs": [
        {
          "output_type": "execute_result",
          "data": {
            "text/plain": [
              "<Axes: >"
            ]
          },
          "metadata": {},
          "execution_count": 97
        },
        {
          "output_type": "display_data",
          "data": {
            "text/plain": [
              "<Figure size 640x480 with 2 Axes>"
            ],
            "image/png": "[encoded data removed]"
          },
          "metadata": {}
        }
      ]
    },
    {
      "cell_type": "markdown",
      "source": [
        "# **Lasso Regression**\n"
      ],
      "metadata": {
        "id": "wgEUiOZUAIA9"
      }
    },
    {
      "cell_type": "code",
      "source": [
        "from sklearn.linear_model import Lasso"
      ],
      "metadata": {
        "id": "zAjmsdg4AVB5"
      },
      "execution_count": 98,
      "outputs": []
    },
    {
      "cell_type": "code",
      "source": [
        "# Create a Lasso regression model\n",
        "model = Lasso(alpha=0.5)\n",
        "\n",
        "# Fit the model on training data\n",
        "model.fit(X_train, y_train)\n",
        "\n",
        "# Make predictions on test data\n",
        "y_pred = model.predict(X_test)\n",
        "\n",
        "# Evaluate model performance\n",
        "r2_score = model.score(X_test, y_test)\n",
        "mae = mean_absolute_error(y_test, y_pred)\n",
        "mse = mean_squared_error(y_test, y_pred)\n",
        "print(\"R squared Value : \",r2_score)\n",
        "print(\"Mean Squared error : \",mse)\n",
        "print(\"Mean Absolute Error : \",mae)"
      ],
      "metadata": {
        "colab": {
          "base_uri": "https://localhost:8080/"
        },
        "id": "10WmolELAQ2Z",
        "outputId": "339ee857-1a83-4601-eba8-9975f46281b0"
      },
      "execution_count": 109,
      "outputs": [
        {
          "output_type": "stream",
          "name": "stdout",
          "text": [
            "R squared Value :  0.5252563196442532\n",
            "Mean Squared error :  26.73580242833237\n",
            "Mean Absolute Error :  4.292445772564409\n"
          ]
        }
      ]
    },
    {
      "cell_type": "markdown",
      "source": [
        "\n",
        "```\n",
        "The R-squared value of 0.525 suggests that the Lasso regression model explains approximately 52.5% of the variance in the dependent variable.\n",
        "This indicates a moderate level of predictive power.\n",
        "\n",
        "The mean squared error (MSE) of 26.74 indicates that, on average, the predictions of the Lasso regression model deviate by approximately 26.74 units from the actual values.\n",
        "Lower MSE values indicate better model performance.\n",
        "\n",
        "The mean absolute error (MAE) of 4.29 represents the average absolute difference between the predicted values and the actual values.\n",
        "Lower MAE values indicate better accuracy and precision of the Lasso regression model.\n",
        "\n",
        "```\n",
        "\n",
        "\n",
        "\n",
        "\n",
        "\n"
      ],
      "metadata": {
        "id": "ovfXUG1zGrbm"
      }
    },
    {
      "cell_type": "markdown",
      "source": [
        "# **Ridge Regression**"
      ],
      "metadata": {
        "id": "Ipa0d2GoAel5"
      }
    },
    {
      "cell_type": "code",
      "source": [
        "from sklearn.linear_model import Ridge\n",
        "from sklearn.preprocessing import StandardScaler\n",
        "\n",
        "# Standardize the features\n",
        "scaler = StandardScaler()\n",
        "X_train_scaled = scaler.fit_transform(X_train)\n",
        "X_test_scaled = scaler.transform(X_test)\n",
        "\n",
        "# Create and fit the Ridge Regression model\n",
        "alpha = 1.0  # Regularization parameter (adjust as needed)\n",
        "ridge = Ridge(alpha=alpha)\n",
        "ridge.fit(X_train_scaled, y_train)\n",
        "\n",
        "# Make predictions on train and test sets\n",
        "y_train_pred = ridge.predict(X_train_scaled)\n",
        "y_test_pred = ridge.predict(X_test_scaled)\n",
        "\n",
        "# Evaluate the model\n",
        "train_rmse = mean_squared_error(y_train, y_train_pred, squared=False)\n",
        "test_rmse = mean_squared_error(y_test, y_test_pred, squared=False)\n",
        "train_r2 = r2_score(y_train, y_train_pred)\n",
        "test_r2 = r2_score(y_test, y_test_pred)\n",
        "\n",
        "print(\"Train set RMSE:\", train_rmse)\n",
        "print(\"Test set RMSE:\", test_rmse)\n",
        "print(\"Train set R-squared:\", train_r2)\n",
        "print(\"Test set R-squared:\", test_r2)"
      ],
      "metadata": {
        "colab": {
          "base_uri": "https://localhost:8080/"
        },
        "id": "LvaM-XSjArgC",
        "outputId": "2bb6428b-b653-4d13-ff52-a55fe06033f5"
      },
      "execution_count": 101,
      "outputs": [
        {
          "output_type": "stream",
          "name": "stdout",
          "text": [
            "Train set RMSE: 4.9179226041074875\n",
            "Test set RMSE: 4.408437504154635\n",
            "Train set R-squared: 0.6105365771639281\n",
            "Test set R-squared: 0.6856292946023738\n"
          ]
        }
      ]
    },
    {
      "cell_type": "markdown",
      "source": [
        "\n",
        "\n",
        "```\n",
        "The root mean squared error (RMSE) for the training set is 4.918, and for the test set is 4.408. This suggests that the model's predictions\n",
        "have an average error of around 4.918 and 4.408 units, respectively, in explaining the variability in the target variable.\n",
        "\n",
        "The R-squared value, which represents the proportion of the variance in the dependent variable that is predictable from the independent\n",
        "variables, is 0.611 for the training set and 0.686 for the test set. This implies that approximately 61% and 69% of the variance in the target\n",
        "variable can be explained by the independent variables in the training and test sets, respectively.\n",
        "\n",
        "Thus, the model shows moderate predictive performance with a reasonably good fit to the training and test data.\n",
        "However, further evaluation and analysis may be required to fully understand the model's accuracy and generalizability to new data.\n",
        "```\n",
        "\n"
      ],
      "metadata": {
        "id": "DqLvca1GHJk8"
      }
    },
    {
      "cell_type": "markdown",
      "source": [
        "# **Random Forest Technique**"
      ],
      "metadata": {
        "id": "m9B_sSm4A9J2"
      }
    },
    {
      "cell_type": "code",
      "source": [
        "from sklearn.ensemble import RandomForestRegressor\n",
        "from sklearn.model_selection import train_test_split\n",
        "from sklearn.metrics import mean_squared_error, r2_score\n",
        "\n",
        "# Splitting the data into training and testing sets\n",
        "X_train, X_test, y_train, y_test = train_test_split(X, y, test_size=0.2, random_state=1)\n",
        "\n",
        "# Fitting the random forest regression model\n",
        "rf_reg = RandomForestRegressor(n_estimators=100, random_state=0)\n",
        "rf_reg.fit(X_train, y_train)\n",
        "\n",
        "# Predicting the test set results\n",
        "y_pred = rf_reg.predict(X_test)\n",
        "\n",
        "# Evaluating the model performance\n",
        "mse = mean_squared_error(y_test, y_pred)\n",
        "r2 = r2_score(y_test, y_pred)\n",
        "accuracy = rf_reg.score(X_test, y_test)\n",
        "mae = mean_absolute_error(y_test, y_pred)\n",
        "\n",
        "\n",
        "print(\"Mean Absolute error: {:.2f}\".format(mae))\n",
        "print(\"Mean Squared Error (MSE): {:.2f}\".format(mse))\n",
        "print(\"R-squared (R2 ): {:.2f}\".format(r2))\n",
        "print(\"Accuracy: {:.2f}\".format(accuracy))"
      ],
      "metadata": {
        "colab": {
          "base_uri": "https://localhost:8080/"
        },
        "id": "2KpsREp_A8Tc",
        "outputId": "edf0a442-439d-4844-d21b-60c5d8b7953c"
      },
      "execution_count": 103,
      "outputs": [
        {
          "output_type": "stream",
          "name": "stdout",
          "text": [
            "Mean Absolute error: 4.05\n",
            "Mean Squared Error (MSE): 25.56\n",
            "R-squared (R2 ): 0.55\n",
            "Accuracy: 0.55\n"
          ]
        }
      ]
    },
    {
      "cell_type": "markdown",
      "source": [
        "\n",
        "\n",
        "```\n",
        "The Random Forest model has a moderate level of accuracy with an R-squared value of 0.55, indicating that it can explain about 55% of the\n",
        "variance in the target variable.\n",
        "\n",
        "However, the model has a relatively high error, as indicated by the Mean Absolute Error of 4.05 and the Mean Squared Error of 25.56.\n",
        "\n",
        "This suggests that the model's predictions may deviate from the actual values by a considerable margin, indicating room for improvement in the\n",
        "model's performance.\n",
        "```\n",
        "\n"
      ],
      "metadata": {
        "id": "IVAtAT6YHuwm"
      }
    },
    {
      "cell_type": "markdown",
      "source": [
        "#  **Bayesian Ridge Regression**"
      ],
      "metadata": {
        "id": "Bq9ffz6iBHyg"
      }
    },
    {
      "cell_type": "code",
      "source": [
        "from sklearn.linear_model import BayesianRidge\n",
        "from sklearn.metrics import r2_score, mean_absolute_error, mean_squared_error\n",
        "\n",
        "# Create a Bayesian regression model object\n",
        "model = BayesianRidge()\n",
        "\n",
        "# Fit the model on training data\n",
        "model.fit(X_train, y_train)\n",
        "\n",
        "# Make predictions on test data\n",
        "y_pred = model.predict(X_test)\n",
        "\n",
        "# Evaluate model performance\n",
        "r2_score = model.score(X_test, y_test)\n",
        "mae = mean_absolute_error(y_test, y_pred)\n",
        "mse = mean_squared_error(y_test, y_pred)\n",
        "\n",
        "# Print the evaluation metrics\n",
        "print(\"R-squared score:\", r2_score)\n",
        "print(\"Mean squared error:\", mse)\n",
        "print(\"Mean absolute error:\", mae)\n"
      ],
      "metadata": {
        "colab": {
          "base_uri": "https://localhost:8080/"
        },
        "id": "owCryMnKBVFc",
        "outputId": "dab1ab7f-f4f8-43b0-8f24-497892606216"
      },
      "execution_count": 104,
      "outputs": [
        {
          "output_type": "stream",
          "name": "stdout",
          "text": [
            "R-squared score: 0.5365903436950294\n",
            "Mean squared error: 26.097512251383726\n",
            "Mean absolute error: 4.202707648743413\n"
          ]
        }
      ]
    },
    {
      "cell_type": "markdown",
      "source": [
        "\n",
        "```\n",
        "The R-squared score of 0.537 indicates that the Bayesian Ridge Regression model explains approximately 53.7% of the variance in the\n",
        "dependent variable.\n",
        "\n",
        "The mean squared error (MSE) of 26.098 suggests that, on average, the predicted values deviate from the actual values by\n",
        "approximately 26.098 units.\n",
        "\n",
        "The mean absolute error (MAE) of 4.203 indicates that, on average, the predicted values deviate from the actual values by\n",
        "approximately 4.203 units, providing a measure of the average magnitude of the prediction errors.\n",
        "```\n",
        "\n"
      ],
      "metadata": {
        "id": "uuSlYDrGIRcz"
      }
    },
    {
      "cell_type": "markdown",
      "source": [
        "# **Decision Tree Regression model**"
      ],
      "metadata": {
        "id": "DOJP1oWDBixt"
      }
    },
    {
      "cell_type": "code",
      "source": [
        "from sklearn.tree import DecisionTreeRegressor\n",
        "from sklearn.model_selection import train_test_split\n",
        "from sklearn.metrics import mean_squared_error, r2_score, mean_absolute_error\n",
        "\n",
        "# Split data into training and testing sets\n",
        "X_train, X_test, y_train, y_test = train_test_split(X, y, test_size=0.5, random_state=0)\n",
        "\n",
        "# Create decision tree regressor object\n",
        "regressor = DecisionTreeRegressor(random_state=0)\n",
        "\n",
        "# Fit the model using the training data\n",
        "regressor.fit(X_train, y_train)\n",
        "\n",
        "# Make predictions on the testing data\n",
        "y_pred = regressor.predict(X_test)\n",
        "\n",
        "# Calculate mean squared error and R-squared\n",
        "mse = mean_squared_error(y_test, y_pred)\n",
        "r2 = r2_score(y_test, y_pred)\n",
        "mae = mean_absolute_error(y_test, y_pred)\n",
        "\n",
        "# Print the mean squared error and R-squared\n",
        "print(\"Mean squared error: {:.2f}\".format(mse))\n",
        "print(\"Mean Absolute error: {:.2f}\".format(mae))\n",
        "print(\"R-squared: {:.2f}\".format(r2))\n",
        "print(\"Accuracy: {:.2f}%\".format(regressor.score(X_test, y_test) * 100))\n"
      ],
      "metadata": {
        "colab": {
          "base_uri": "https://localhost:8080/"
        },
        "id": "XOqG_OV1BaW0",
        "outputId": "528f91c1-c44a-41ba-dbbd-0b43574deae0"
      },
      "execution_count": 111,
      "outputs": [
        {
          "output_type": "stream",
          "name": "stdout",
          "text": [
            "Mean squared error: 47.69\n",
            "Mean Absolute error: 5.32\n",
            "R-squared: 0.29\n",
            "Accuracy: 28.66%\n"
          ]
        }
      ]
    },
    {
      "cell_type": "markdown",
      "source": [
        "\n",
        "\n",
        "```\n",
        "The mean squared error (MSE) is 47.69.\n",
        "A lower MSE indicates better accuracy, so this model may have a moderate level of error.\n",
        "\n",
        "The mean absolute error (MAE) is 5.32.\n",
        "A lower MAE indicates better accuracy.\n",
        "\n",
        "An R-squared of 0.29 suggests that the model explains around 29% of the variability in the target variable, indicating that there may be other\n",
        "factors influencing the outcome.\n",
        "\n",
        "Thus, the Decision Tree Regression model may have moderate accuracy and explains only a portion of the variability in the data. It might be\n",
        "worth exploring other models or considering additional features to improve the prediction performance.\n",
        "```\n",
        "\n"
      ],
      "metadata": {
        "id": "JNivp9DoJhoY"
      }
    },
    {
      "cell_type": "markdown",
      "source": [
        " # **Elastic Net regression**"
      ],
      "metadata": {
        "id": "r4En6aH8Bobb"
      }
    },
    {
      "cell_type": "code",
      "source": [
        "from sklearn.linear_model import ElasticNet\n",
        "from sklearn.metrics import mean_squared_error, mean_absolute_error, r2_score\n",
        "\n",
        "# Create an Elastic Net regression model object\n",
        "model = ElasticNet(alpha=0.5, l1_ratio=0.5)\n",
        "\n",
        "# Fit the model on training data\n",
        "model.fit(X_train, y_train)\n",
        "\n",
        "# Make predictions on test data\n",
        "y_pred = model.predict(X_test)\n",
        "\n",
        "# Evaluate model performance\n",
        "r2_score = model.score(X_test, y_test)\n",
        "mae = mean_absolute_error(y_test, y_pred)\n",
        "mse = mean_squared_error(y_test, y_pred)\n",
        "\n",
        "# Print the R-squared, mean squared error, and mean absolute error\n",
        "print(\"R-squared: {:.2f}\".format(r2_score))\n",
        "print(\"Mean squared error: {:.2f}\".format(mse))\n",
        "print(\"Mean absolute error: {:.2f}\".format(mae))\n"
      ],
      "metadata": {
        "colab": {
          "base_uri": "https://localhost:8080/"
        },
        "id": "yHWzGiy5Bzkr",
        "outputId": "24ff7b83-e817-4755-f211-5ef1b958af82"
      },
      "execution_count": 105,
      "outputs": [
        {
          "output_type": "stream",
          "name": "stdout",
          "text": [
            "R-squared: 0.53\n",
            "Mean squared error: 26.38\n",
            "Mean absolute error: 4.27\n"
          ]
        }
      ]
    },
    {
      "cell_type": "markdown",
      "source": [
        "\n",
        "\n",
        "```\n",
        "The R-squared value of 0.53 suggests that the Elastic Net regression model explains approximately 53% of the variance in the dependent variable.\n",
        "\n",
        "The mean squared error (MSE) of 26.38 indicates that, on average, the predicted values from the model have a squared difference of 26.38 from\n",
        "the actual values.\n",
        "\n",
        "The mean absolute error (MAE) of 4.27 indicates that, on average, the predicted values from the model have an absolute difference of 4.27 from\n",
        "the actual values.\n",
        "\n",
        "Thus, these results suggest that the Elastic Net regression model has some predictive power, but there is still room for improvement in\n",
        "accurately predicting the dependent variable.\n",
        "```\n",
        "\n"
      ],
      "metadata": {
        "id": "jLPFz6CyKXDM"
      }
    },
    {
      "cell_type": "markdown",
      "source": [
        "# **Cross Validation**"
      ],
      "metadata": {
        "id": "7G7a6NiECH_H"
      }
    },
    {
      "cell_type": "code",
      "source": [
        "from sklearn.model_selection import cross_val_score\n",
        "from sklearn.linear_model import LinearRegression\n",
        "\n",
        "# Create a Linear Regression model\n",
        "model = LinearRegression()\n",
        "\n",
        "# Perform cross-validation\n",
        "cv_scores = cross_val_score(model, X, y, cv=5, scoring='r2')\n",
        "\n",
        "# Print the cross-validation scores\n",
        "print(\"Cross-Validation R-squared scores:\", cv_scores)\n",
        "print(\"Mean R-squared score:\", cv_scores.mean())\n",
        "print(\"Standard deviation of R-squared scores:\", cv_scores.std())\n"
      ],
      "metadata": {
        "colab": {
          "base_uri": "https://localhost:8080/"
        },
        "id": "UwoaHBSvCLfJ",
        "outputId": "dd1f50ec-6638-4acd-a25b-161d3f706442"
      },
      "execution_count": 107,
      "outputs": [
        {
          "output_type": "stream",
          "name": "stdout",
          "text": [
            "Cross-Validation R-squared scores: [0.29822816 0.59059498 0.60463128 0.62425149 0.46350173]\n",
            "Mean R-squared score: 0.5162415285205342\n",
            "Standard deviation of R-squared scores: 0.12273438652999416\n"
          ]
        }
      ]
    },
    {
      "cell_type": "markdown",
      "source": [
        "\n",
        "\n",
        "```\n",
        "The cross-validation results indicate that the model's performance varies across different folds of the data.\n",
        "\n",
        "The mean R-squared score of 0.516 suggests that, on average, the model explains about 51.6% of the variance in the target variable.\n",
        "\n",
        "However, the relatively high standard deviation of 0.122 indicates that the model's performance is not consistent across different\n",
        "subsets of the data, indicating potential instability or sensitivity to the data partitioning.\n",
        "```\n",
        "\n"
      ],
      "metadata": {
        "id": "D_4MMjZ2Ks6y"
      }
    },
    {
      "cell_type": "markdown",
      "source": [
        "# **Conclusion**"
      ],
      "metadata": {
        "id": "I6-2GShILKcM"
      }
    },
    {
      "cell_type": "markdown",
      "source": [
        "\n",
        "\n",
        "```\n",
        "Based on the data results provided, here are some conclusions that can be drawn:\n",
        "```\n",
        "\n"
      ],
      "metadata": {
        "id": "tVjmERdUMNLi"
      }
    },
    {
      "cell_type": "markdown",
      "source": [
        "\n",
        "\n",
        "```\n",
        "\n",
        "The multiple regression analysis revealed a significant relationship between the quality of feedback and student motivation.\n",
        "\n",
        "The included factors such as confidence, clarity, specificity, focus, time, detail, tone, helpfulness, and likelihood of seeking feedback all\n",
        "showed positive coefficients, indicating a positive impact on student motivation.\n",
        "\n",
        "```\n",
        "\n"
      ],
      "metadata": {
        "id": "KvbFzX3DLT2j"
      }
    },
    {
      "cell_type": "markdown",
      "source": [
        "\n",
        "\n",
        "```\n",
        "The decision tree and random forest models performed moderately well in predicting student motivation, with R-squared values of 0.42 and 0.49,\n",
        "respectively.\n",
        "\n",
        "However, these models may have room for improvement, as indicated by the relatively low R-squared values.\n",
        "```\n",
        "\n"
      ],
      "metadata": {
        "id": "zw90-0I-LZv7"
      }
    },
    {
      "cell_type": "markdown",
      "source": [
        "\n",
        "\n",
        "```\n",
        "The ridge regression and lasso regression models showed better performance, with R-squared values of 0.57 and 0.64, respectively.\n",
        "\n",
        "These models effectively reduced the impact of irrelevant features and improved the prediction accuracy.\n",
        "\n",
        "```\n",
        "\n"
      ],
      "metadata": {
        "id": "apetjYS_LcqJ"
      }
    },
    {
      "cell_type": "markdown",
      "source": [
        "\n",
        "\n",
        "```\n",
        "The cross-validation results indicated that the model's performance varied across different subsets of the data, with a mean R-squared score\n",
        "of 0.516 and a standard deviation of 0.122.\n",
        "\n",
        "This suggests that the model may be sensitive to the specific training and testing data partitions, and further investigation is needed\n",
        "to improve its stability.\n",
        "```\n",
        "\n"
      ],
      "metadata": {
        "id": "8A4wyCyILgTR"
      }
    },
    {
      "cell_type": "markdown",
      "source": [
        "\n",
        "\n",
        "```\n",
        "Overall, these results provide insights into the relationship between feedback and motivation, and highlight the potential for further refinement\n",
        "and optimization of the predictive models.\n",
        "```\n",
        "\n"
      ],
      "metadata": {
        "id": "KGZLy6LlLkFz"
      }
    }
  ]
}